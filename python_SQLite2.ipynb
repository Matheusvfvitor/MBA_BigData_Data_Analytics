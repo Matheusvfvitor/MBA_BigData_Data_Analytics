{
  "nbformat": 4,
  "nbformat_minor": 0,
  "metadata": {
    "colab": {
      "name": "python_SQLite2.ipynb",
      "provenance": [],
      "authorship_tag": "ABX9TyPzApYc2rnJxyDOJUP/RG+8",
      "include_colab_link": true
    },
    "kernelspec": {
      "name": "python3",
      "display_name": "Python 3"
    }
  },
  "cells": [
    {
      "cell_type": "markdown",
      "metadata": {
        "id": "view-in-github",
        "colab_type": "text"
      },
      "source": [
        "<a href=\"https://colab.research.google.com/github/Matheusvfvitor/MBA_FGV_BigData_Data_Analytics/blob/master/python_SQLite2.ipynb\" target=\"_parent\"><img src=\"https://colab.research.google.com/assets/colab-badge.svg\" alt=\"Open In Colab\"/></a>"
      ]
    },
    {
      "cell_type": "code",
      "metadata": {
        "id": "gMZfO5VBtSkd",
        "colab_type": "code",
        "colab": {}
      },
      "source": [
        "import os \n",
        "os.remove(\"dsa.db\") if os.path.exists(\"dsa.db\") else None"
      ],
      "execution_count": 0,
      "outputs": []
    },
    {
      "cell_type": "code",
      "metadata": {
        "id": "_UGADkFAtZIp",
        "colab_type": "code",
        "colab": {}
      },
      "source": [
        "import sqlite3\n",
        "conn = sqlite3.connect(\"dsa.db\")"
      ],
      "execution_count": 0,
      "outputs": []
    },
    {
      "cell_type": "code",
      "metadata": {
        "id": "cZMjP_rEtzge",
        "colab_type": "code",
        "colab": {}
      },
      "source": [
        "c = conn.cursor()"
      ],
      "execution_count": 0,
      "outputs": []
    },
    {
      "cell_type": "code",
      "metadata": {
        "id": "yfZXixIkt5mM",
        "colab_type": "code",
        "colab": {}
      },
      "source": [
        "#Criando função para criar tabela\n",
        "\n",
        "def create_table():\n",
        "  c.execute('CREATE TABLE IF NOT EXISTS produtoS(id INTEGER PRIMARY KEY AUTOINCREMENT NOT NULL, date TEXT,' \\\n",
        "            'prod_name TEXT, valor REAL)')"
      ],
      "execution_count": 0,
      "outputs": []
    },
    {
      "cell_type": "code",
      "metadata": {
        "id": "i38Nit83unKB",
        "colab_type": "code",
        "colab": {}
      },
      "source": [
        "#Criando função para inserir uma linha\n",
        "\n",
        "def data_insert():\n",
        "  c.execute(\"INSERT INTO produtos VALUES(10, '2018-05-02 14:32:11', 'Teclado', '90')\")\n",
        "  conn.commit()\n",
        "  c.close()\n",
        "  conn.close()"
      ],
      "execution_count": 0,
      "outputs": []
    },
    {
      "cell_type": "code",
      "metadata": {
        "id": "Svb6svJGvKa3",
        "colab_type": "code",
        "colab": {}
      },
      "source": [
        "create_table()"
      ],
      "execution_count": 0,
      "outputs": []
    },
    {
      "cell_type": "code",
      "metadata": {
        "id": "7dW3KBGkvM_p",
        "colab_type": "code",
        "colab": {}
      },
      "source": [
        "data_insert()"
      ],
      "execution_count": 0,
      "outputs": []
    },
    {
      "cell_type": "code",
      "metadata": {
        "id": "1rpUWSh0vOLy",
        "colab_type": "code",
        "colab": {}
      },
      "source": [
        ""
      ],
      "execution_count": 0,
      "outputs": []
    }
  ]
}